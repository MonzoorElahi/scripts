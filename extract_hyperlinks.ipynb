{
  "nbformat": 4,
  "nbformat_minor": 0,
  "metadata": {
    "colab": {
      "provenance": [],
      "authorship_tag": "ABX9TyMXDwPGJ+X8os0Gqw+dbSnm",
      "include_colab_link": true
    },
    "kernelspec": {
      "name": "python3",
      "display_name": "Python 3"
    },
    "language_info": {
      "name": "python"
    }
  },
  "cells": [
    {
      "cell_type": "markdown",
      "metadata": {
        "id": "view-in-github",
        "colab_type": "text"
      },
      "source": [
        "<a href=\"https://colab.research.google.com/github/MonzoorElahi/scripts/blob/main/extract_hyperlinks.ipynb\" target=\"_parent\"><img src=\"https://colab.research.google.com/assets/colab-badge.svg\" alt=\"Open In Colab\"/></a>"
      ]
    },
    {
      "cell_type": "code",
      "execution_count": 2,
      "metadata": {
        "colab": {
          "base_uri": "https://localhost:8080/"
        },
        "id": "9sSAh_zaDgy7",
        "outputId": "b430d042-fd4b-4db2-be37-8fdc1f8f6123"
      },
      "outputs": [
        {
          "output_type": "stream",
          "name": "stdout",
          "text": [
            "https://www.coursera.org/account/accomplishments/verify/LSMEC4BA2PPE\n",
            "https://www.coursera.org/account/accomplishments/verify/D8WW8KRKPMNC\n",
            "https://www.coursera.org/account/accomplishments/verify/L2B9679FVTM6\n",
            "https://www.coursera.org/account/accomplishments/verify/JJNMUJ2TJ6CY\n",
            "https://www.coursera.org/account/accomplishments/verify/RCQ8CLDFSDFB\n",
            "https://www.coursera.org/account/accomplishments/verify/2SU7UXZ8YF8D\n",
            "https://www.coursera.org/account/accomplishments/verify/WHV4BCAQEBE6\n",
            "https://www.coursera.org/account/accomplishments/verify/HRZ6Y54VWVFF\n",
            "https://www.coursera.org/account/accomplishments/verify/8M74FGEA5VWF\n",
            "https://www.coursera.org/account/accomplishments/verify/7ELARFDC4TNE\n",
            "https://www.coursera.org/account/accomplishments/verify/R4DWU5T65HPR\n",
            "https://www.coursera.org/account/accomplishments/verify/8AMGGSKZRLF7\n",
            "https://www.facebook.com/BASIS.BD/posts/successful-completion-of-b-meet-8th-batchon-october-3-2024-the-closing-ceremony-/965246992312673/\n"
          ]
        }
      ],
      "source": [
        "import openpyxl\n",
        "\n",
        "def extract_hyperlinks(excel_file, sheet_name):\n",
        "    # Load the workbook and select the sheet\n",
        "    workbook = openpyxl.load_workbook(excel_file)\n",
        "    sheet = workbook[sheet_name]\n",
        "\n",
        "    # Dictionary to store cell coordinates and their hyperlinks\n",
        "    hyperlinks = {}\n",
        "\n",
        "    # Iterate through all cells in the sheet\n",
        "    for row in sheet.iter_rows():\n",
        "        for cell in row:\n",
        "            if cell.hyperlink:\n",
        "                hyperlinks[cell.coordinate] = cell.hyperlink.target\n",
        "\n",
        "    return hyperlinks\n",
        "\n",
        "# Example usage\n",
        "excel_file = '/content/Book.xlsx'\n",
        "sheet_name = 'Sheet1'\n",
        "hyperlinks = extract_hyperlinks(excel_file, sheet_name)\n",
        "\n",
        "# Print the extracted hyperlinks\n",
        "for cell, link in hyperlinks.items():\n",
        "    print(f\"{link}\")\n"
      ]
    }
  ]
}